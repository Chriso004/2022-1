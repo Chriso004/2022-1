{
 "cells": [
  {
   "cell_type": "code",
   "execution_count": 1,
   "id": "712b0b66-5106-42fc-a22b-ec35acb5cdc5",
   "metadata": {},
   "outputs": [],
   "source": [
    "import numpy as np"
   ]
  },
  {
   "cell_type": "code",
   "execution_count": 6,
   "id": "c1f5a341-9a9e-49f2-96cd-5356eb4b7237",
   "metadata": {},
   "outputs": [],
   "source": [
    "c = 10"
   ]
  },
  {
   "cell_type": "code",
   "execution_count": 7,
   "id": "58e24db1-a38f-44ab-83b9-a3f2928ed2d3",
   "metadata": {},
   "outputs": [
    {
     "name": "stdout",
     "output_type": "stream",
     "text": [
      "c=  10\n"
     ]
    }
   ],
   "source": [
    "print('c= ', c)"
   ]
  },
  {
   "cell_type": "code",
   "execution_count": 8,
   "id": "fd26e70c-560b-4e30-9a95-9df5440abb8d",
   "metadata": {},
   "outputs": [],
   "source": [
    "c = 2"
   ]
  },
  {
   "cell_type": "code",
   "execution_count": null,
   "id": "861f8a3f-4bc6-4de3-8e61-66a76fcab1f7",
   "metadata": {},
   "outputs": [],
   "source": []
  }
 ],
 "metadata": {
  "kernelspec": {
   "display_name": "Python 3 (ipykernel)",
   "language": "python",
   "name": "python3"
  },
  "language_info": {
   "codemirror_mode": {
    "name": "ipython",
    "version": 3
   },
   "file_extension": ".py",
   "mimetype": "text/x-python",
   "name": "python",
   "nbconvert_exporter": "python",
   "pygments_lexer": "ipython3",
   "version": "3.9.7"
  }
 },
 "nbformat": 4,
 "nbformat_minor": 5
}
